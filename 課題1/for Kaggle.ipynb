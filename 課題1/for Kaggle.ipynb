{
 "cells": [
  {
   "cell_type": "code",
   "execution_count": 1,
   "metadata": {
    "collapsed": true
   },
   "outputs": [],
   "source": [
    "#ライブラリのインポート\n",
    "\n",
    "import numpy as np\n",
    "import pandas as pd\n",
    "import matplotlib.pyplot as plt\n",
    "% matplotlib inline"
   ]
  },
  {
   "cell_type": "code",
   "execution_count": 10,
   "metadata": {
    "collapsed": true
   },
   "outputs": [],
   "source": [
    "#train_dataの読み込み\n",
    "df_train = pd.read_csv('house_price_train.csv')"
   ]
  },
  {
   "cell_type": "code",
   "execution_count": 11,
   "metadata": {},
   "outputs": [],
   "source": [
    "#説明変数、目的変数を作成\n",
    "\n",
    "df_data0 = df_train.loc[:,['1stFlrSF', 'BedroomAbvGr', 'BsmtFinSF1', 'BsmtUnfSF','GarageArea',\n",
    "                           'GrLivArea', 'LotArea', 'TotalBsmtSF', 'YearBuilt',\n",
    "                           'GarageYrBlt', 'LotFrontage', 'MSSubClass', 'OpenPorchSF',\n",
    "                           'TotRmsAbvGrd','YearRemodAdd', 'YrSold',\n",
    "                           'OverallQual', 'GarageCars', 'FullBath', 'BsmtQual_Ex']]\n",
    "df_target = df_train.loc[:,['SalePrice']]\n",
    "df_add0 = pd.concat([df_data0, df_target], axis=1)"
   ]
  },
  {
   "cell_type": "code",
   "execution_count": 12,
   "metadata": {
    "collapsed": true
   },
   "outputs": [],
   "source": [
    "#df_data0について主成分分析\n",
    "\n",
    "#標準化\n",
    "from sklearn.preprocessing import StandardScaler\n",
    "std = StandardScaler()\n",
    "data0_std = std.fit_transform(df_data0)\n",
    "target_std = std.fit_transform(df_target)\n",
    "\n",
    "#主成分分析\n",
    "from sklearn.decomposition import PCA\n",
    "pca = PCA(n_components=len(df_data0.columns))\n",
    "data0_pca = pca.fit_transform(data0_std)"
   ]
  },
  {
   "cell_type": "code",
   "execution_count": 13,
   "metadata": {
    "collapsed": true
   },
   "outputs": [],
   "source": [
    "#主成分のDataFrameを作成\n",
    "\n",
    "list_col = ['pca_'+str(i) for i in range(len(df_data0.columns))]\n",
    "df_data_pca = pd.DataFrame(data0_pca, columns=list_col)"
   ]
  },
  {
   "cell_type": "code",
   "execution_count": 14,
   "metadata": {
    "collapsed": true
   },
   "outputs": [],
   "source": [
    "#多項式回帰、正則化\n",
    "\n",
    "#特徴量抽出\n",
    "pca0 = df_data_pca.loc[:,['pca_0']].values\n",
    "pca3 = df_data_pca.loc[:,['pca_3']].values\n",
    "pca9 = df_data_pca.loc[:,['pca_9']].values\n",
    "\n",
    "#変数変換\n",
    "from sklearn.preprocessing import PolynomialFeatures\n",
    "cubic = PolynomialFeatures(degree=3)\n",
    "\n",
    "pca0_cubic = cubic.fit_transform(pca0)\n",
    "pca3_cubic = cubic.fit_transform(pca3)\n",
    "pca9_cubic = cubic.fit_transform(pca9)\n",
    "\n",
    "#変数を連結,特徴量\n",
    "pca_sel = np.hstack((pca0_cubic, pca3_cubic, pca9_cubic))"
   ]
  },
  {
   "cell_type": "code",
   "execution_count": 15,
   "metadata": {},
   "outputs": [
    {
     "data": {
      "text/plain": [
       "LinearRegression(copy_X=True, fit_intercept=True, n_jobs=1, normalize=False)"
      ]
     },
     "execution_count": 15,
     "metadata": {},
     "output_type": "execute_result"
    }
   ],
   "source": [
    "#モデルを学習、Lasso\n",
    "from sklearn.linear_model import LinearRegression\n",
    "lr = LinearRegression()\n",
    "lr.fit(pca_sel, df_target)"
   ]
  },
  {
   "cell_type": "code",
   "execution_count": 18,
   "metadata": {
    "collapsed": true
   },
   "outputs": [],
   "source": [
    "df_test = pd.read_csv('house_price_test.csv')\n",
    "X_test = df_test.loc[:,['1stFlrSF', 'BedroomAbvGr', 'BsmtFinSF1', 'BsmtUnfSF','GarageArea',\n",
    "                        'GrLivArea', 'LotArea', 'TotalBsmtSF', 'YearBuilt',\n",
    "                        'GarageYrBlt', 'LotFrontage', 'MSSubClass', 'OpenPorchSF',\n",
    "                        'TotRmsAbvGrd','YearRemodAdd', 'YrSold',\n",
    "                        'OverallQual', 'GarageCars', 'FullBath', 'BsmtQual_Ex']]\n",
    "X_test_std = std.fit_transform(X_test)\n",
    "pca_x = PCA(n_components=len(X_test.columns))\n",
    "X_test_pca = pca_x.fit_transform(X_test_std)"
   ]
  },
  {
   "cell_type": "code",
   "execution_count": 19,
   "metadata": {
    "collapsed": true
   },
   "outputs": [],
   "source": [
    "list_x = ['pca_'+str(i) for i in range(len(X_test.columns))]\n",
    "X_pca_df = pd.DataFrame(X_test_pca, columns=list_x)"
   ]
  },
  {
   "cell_type": "code",
   "execution_count": 21,
   "metadata": {},
   "outputs": [],
   "source": [
    "#多項式回帰、正則化\n",
    "\n",
    "#特徴量抽出\n",
    "pca0 = X_pca_df.loc[:,['pca_0']].values\n",
    "pca3 = X_pca_df.loc[:,['pca_3']].values\n",
    "pca9 = X_pca_df.loc[:,['pca_9']].values\n",
    "\n",
    "#変数変換\n",
    "from sklearn.preprocessing import PolynomialFeatures\n",
    "cubic = PolynomialFeatures(degree=3)\n",
    "\n",
    "pca0_cubic = cubic.fit_transform(pca0)\n",
    "pca3_cubic = cubic.fit_transform(pca3)\n",
    "pca9_cubic = cubic.fit_transform(pca9)\n",
    "\n",
    "#変数を連結,特徴量\n",
    "X_fin = np.hstack((pca0_cubic, pca3_cubic, pca9_cubic))"
   ]
  },
  {
   "cell_type": "code",
   "execution_count": 24,
   "metadata": {},
   "outputs": [],
   "source": [
    "#結果を出力\n",
    "result = lr.predict(X_fin)"
   ]
  },
  {
   "cell_type": "code",
   "execution_count": 32,
   "metadata": {},
   "outputs": [],
   "source": [
    "#csvファイルに変換\n",
    "\n",
    "index_list = list(range(1461,2920,1))\n",
    "result_ = pd.DataFrame(result,columns=['SalePrice'])\n",
    "result_.index = index_list\n",
    "result_.to_csv('result_1.csv')"
   ]
  },
  {
   "cell_type": "code",
   "execution_count": null,
   "metadata": {
    "collapsed": true
   },
   "outputs": [],
   "source": []
  }
 ],
 "metadata": {
  "kernelspec": {
   "display_name": "Python 3",
   "language": "python",
   "name": "python3"
  },
  "language_info": {
   "codemirror_mode": {
    "name": "ipython",
    "version": 3
   },
   "file_extension": ".py",
   "mimetype": "text/x-python",
   "name": "python",
   "nbconvert_exporter": "python",
   "pygments_lexer": "ipython3",
   "version": "3.6.2"
  }
 },
 "nbformat": 4,
 "nbformat_minor": 2
}
