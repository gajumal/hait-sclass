{
 "cells": [
  {
   "cell_type": "code",
   "execution_count": 29,
   "metadata": {
    "collapsed": true
   },
   "outputs": [],
   "source": [
    "#ライブラリの読み込み\n",
    "\n",
    "import numpy as np\n",
    "import pandas as pd\n",
    "import matplotlib.pyplot as plt\n",
    "% matplotlib inline\n",
    "from numpy import nan\n",
    "import seaborn as sns\n",
    "\n",
    "#データの読み込み\n",
    "df = pd.read_csv('train_taitanic.csv')"
   ]
  },
  {
   "cell_type": "code",
   "execution_count": 30,
   "metadata": {},
   "outputs": [
    {
     "data": {
      "text/plain": [
       "PassengerId      0\n",
       "Survived         0\n",
       "Pclass           0\n",
       "Name             0\n",
       "Sex              0\n",
       "Age            177\n",
       "SibSp            0\n",
       "Parch            0\n",
       "Ticket           0\n",
       "Fare             0\n",
       "Cabin          687\n",
       "Embarked         2\n",
       "dtype: int64"
      ]
     },
     "execution_count": 30,
     "metadata": {},
     "output_type": "execute_result"
    }
   ],
   "source": [
    "#欠損値を確認\n",
    "df.isnull().sum()"
   ]
  },
  {
   "cell_type": "code",
   "execution_count": 31,
   "metadata": {
    "collapsed": true
   },
   "outputs": [],
   "source": [
    "#敬称による分類、繰り返し文{'Miss.':0,'Mrs.':1,'Master':2,'Mr':3}\n",
    "#Msは1人なのでMrsに追加\n",
    "#3には数人Dr.などいるがMr.として考える\n",
    "\n",
    "list_n = []\n",
    "for name in df.loc[:,['Name']].values.reshape(-1):\n",
    "    if 'Miss.' in name:\n",
    "        list_n.append(0)\n",
    "    elif 'Mrs.' in name or 'Ms.' in name:\n",
    "        list_n.append(1)\n",
    "    elif 'Master.' in name:\n",
    "        list_n.append(2)\n",
    "    else:\n",
    "        list_n.append(3)"
   ]
  },
  {
   "cell_type": "code",
   "execution_count": 32,
   "metadata": {
    "collapsed": true
   },
   "outputs": [],
   "source": [
    "#dfにHonorificカラムを追加\n",
    "df['Honorific'] = np.array(list_n)"
   ]
  },
  {
   "cell_type": "code",
   "execution_count": 33,
   "metadata": {
    "scrolled": true
   },
   "outputs": [
    {
     "name": "stdout",
     "output_type": "stream",
     "text": [
      "Honorific\n",
      "0    21.773973\n",
      "1    35.825688\n",
      "2     4.574167\n",
      "3    32.994090\n",
      "Name: Age, dtype: float64\n",
      "Honorific\n",
      "0    21.0\n",
      "1    35.0\n",
      "2     3.5\n",
      "3    30.0\n",
      "Name: Age, dtype: float64\n"
     ]
    }
   ],
   "source": [
    "#敬称ごとの年齢の平均値、中央値を出力\n",
    "\n",
    "age_mean = df.groupby('Honorific').Age.mean()\n",
    "age_median = df.groupby('Honorific').Age.median()\n",
    "print(age_mean)\n",
    "print(age_median)"
   ]
  },
  {
   "cell_type": "code",
   "execution_count": 34,
   "metadata": {},
   "outputs": [],
   "source": [
    "#Ageの欠損値を敬称ごとの平均値で補完\n",
    "\n",
    "#Ageが欠損しているindexを取り出しのlistを作成\n",
    "age_nan = df.Age.isnull()\n",
    "list_nan = age_nan.values\n",
    "list_t = []\n",
    "for i in range(len(list_nan)):\n",
    "    if list_nan[i] == True:\n",
    "        list_t.append(i)\n",
    "        \n",
    "#list_tに対して敬称ごとの年齢の中央値が対応するlistの作成\n",
    "list_m = []\n",
    "for i in list_t:\n",
    "    list_m.append(age_mean[df.Honorific[i]])\n",
    "    \n",
    "#df_ageカラムを作成し、dfに追加\n",
    "df_age = df.loc[:,['Age']]\n",
    "for j,k in zip(list_t, list_m):    \n",
    "    df_age.Age[j] = k\n",
    "\n",
    "df['Age_mod'] = df_age"
   ]
  },
  {
   "cell_type": "code",
   "execution_count": 35,
   "metadata": {
    "collapsed": true
   },
   "outputs": [],
   "source": [
    "#Sexをダミー変数化\n",
    "df['Female'] = df['Sex'].map({'male':0,'female':1})\n",
    "\n",
    "#Pclassをダミー変数化\n",
    "#Embarkedをダミー変数化\n",
    "pclass = pd.get_dummies(df['Pclass'],prefix ='Class')\n",
    "embarked = pd.get_dummies(df['Embarked'], prefix='Embarked')\n",
    "\n",
    "#df,pclass,embarkedを結合\n",
    "df = pd.concat([df, pclass, embarked], axis=1)\n"
   ]
  },
  {
   "cell_type": "code",
   "execution_count": 36,
   "metadata": {},
   "outputs": [
    {
     "data": {
      "text/plain": [
       "<matplotlib.axes._subplots.AxesSubplot at 0x1a14f52f98>"
      ]
     },
     "execution_count": 36,
     "metadata": {},
     "output_type": "execute_result"
    },
    {
     "data": {
      "image/png": "[encoded data removed]",
      "text/plain": [
       "<matplotlib.figure.Figure at 0x1a1488e940>"
      ]
     },
     "metadata": {},
     "output_type": "display_data"
    }
   ],
   "source": [
    "#それぞれの説明変数についてヒストグラムを出力\n",
    "\n",
    "#Pclass:客室の等級,1:高級\n",
    "sns.countplot(x='Pclass', hue='Survived', data=df)"
   ]
  },
  {
   "cell_type": "code",
   "execution_count": 37,
   "metadata": {},
   "outputs": [
    {
     "data": {
      "text/plain": [
       "<matplotlib.axes._subplots.AxesSubplot at 0x1a14120a58>"
      ]
     },
     "execution_count": 37,
     "metadata": {},
     "output_type": "execute_result"
    },
    {
     "data": {
      "image/png": "[encoded data removed]",
      "text/plain": [
       "<matplotlib.figure.Figure at 0x1a1397ccf8>"
      ]
     },
     "metadata": {},
     "output_type": "display_data"
    }
   ],
   "source": [
    "#Sex:性別\n",
    "sns.countplot(x='Sex', hue='Survived', data=df)"
   ]
  },
  {
   "cell_type": "code",
   "execution_count": 38,
   "metadata": {},
   "outputs": [
    {
     "data": {
      "text/plain": [
       "<matplotlib.axes._subplots.AxesSubplot at 0x1a14eb7cc0>"
      ]
     },
     "execution_count": 38,
     "metadata": {},
     "output_type": "execute_result"
    },
    {
     "data": {
      "image/png": "[encoded data removed]",
      "text/plain": [
       "<matplotlib.figure.Figure at 0x1a13a96ef0>"
      ]
     },
     "metadata": {},
     "output_type": "display_data"
    }
   ],
   "source": [
    "#Honorific:敬称{0:'Miss',1:'Mrs',2:'Master,3:'Mr'}\n",
    "sns.countplot(x='Honorific', hue='Survived',data=df)"
   ]
  },
  {
   "cell_type": "code",
   "execution_count": 39,
   "metadata": {},
   "outputs": [
    {
     "data": {
      "text/plain": [
       "<matplotlib.axes._subplots.AxesSubplot at 0x1a15032898>"
      ]
     },
     "execution_count": 39,
     "metadata": {},
     "output_type": "execute_result"
    },
    {
     "data": {
      "image/png": "[encoded data removed]",
      "text/plain": [
       "<matplotlib.figure.Figure at 0x1a14f1e780>"
      ]
     },
     "metadata": {},
     "output_type": "display_data"
    }
   ],
   "source": [
    "#SibSp:兄弟、いとこ、嫁、夫の数\n",
    "sns.countplot(x='SibSp', hue='Survived', data=df,)"
   ]
  },
  {
   "cell_type": "code",
   "execution_count": 40,
   "metadata": {},
   "outputs": [
    {
     "data": {
      "text/plain": [
       "<matplotlib.axes._subplots.AxesSubplot at 0x1a15254eb8>"
      ]
     },
     "execution_count": 40,
     "metadata": {},
     "output_type": "execute_result"
    },
    {
     "data": {
      "image/png": "[encoded data removed]",
      "text/plain": [
       "<matplotlib.figure.Figure at 0x1a15233e80>"
      ]
     },
     "metadata": {},
     "output_type": "display_data"
    }
   ],
   "source": [
    "#Parch:両親、子供の数\n",
    "sns.countplot(x='Parch', hue='Survived', data=df,)"
   ]
  },
  {
   "cell_type": "code",
   "execution_count": 41,
   "metadata": {},
   "outputs": [
    {
     "data": {
      "text/plain": [
       "<matplotlib.axes._subplots.AxesSubplot at 0x1a153bdd30>"
      ]
     },
     "execution_count": 41,
     "metadata": {},
     "output_type": "execute_result"
    },
    {
     "data": {
      "image/png": "[encoded data removed]",
      "text/plain": [
       "<matplotlib.figure.Figure at 0x1a15221da0>"
      ]
     },
     "metadata": {},
     "output_type": "display_data"
    }
   ],
   "source": [
    "#Embarked:搭乗した場所\n",
    "sns.countplot(x='Embarked', hue='Survived', data=df,)"
   ]
  },
  {
   "cell_type": "code",
   "execution_count": 42,
   "metadata": {},
   "outputs": [
    {
     "data": {
      "text/plain": [
       "([array([  20.,   27.,  128.,  104.,  175.,   46.,   24.,   15.,    9.,    1.]),\n",
       "  array([ 38.,  19.,  85.,  65.,  80.,  24.,  21.,   9.,   0.,   1.])],\n",
       " array([  0.42 ,   8.378,  16.336,  24.294,  32.252,  40.21 ,  48.168,\n",
       "         56.126,  64.084,  72.042,  80.   ]),\n",
       " <a list of 2 Lists of Patches objects>)"
      ]
     },
     "execution_count": 42,
     "metadata": {},
     "output_type": "execute_result"
    },
    {
     "data": {
      "image/png": "[encoded data removed]",
      "text/plain": [
       "<matplotlib.figure.Figure at 0x1a13dcf940>"
      ]
     },
     "metadata": {},
     "output_type": "display_data"
    }
   ],
   "source": [
    "split_data = []\n",
    "for survived in [0,1]:\n",
    "    split_data.append(df[df.Survived==survived])\n",
    "\n",
    "age_l = [i['Age_mod'].dropna() for i in split_data]\n",
    "plt.hist(age_l, histtype='bar', bins=10)"
   ]
  },
  {
   "cell_type": "code",
   "execution_count": 43,
   "metadata": {},
   "outputs": [
    {
     "data": {
      "text/plain": [
       "([array([ 468.,   45.,   22.,    5.,    3.,    0.,    3.,    3.,    0.,\n",
       "            0.,    0.,    0.,    0.,    0.,    0.]),\n",
       "  array([ 219.,   45.,   39.,   17.,    8.,    0.,    6.,    5.,    0.,\n",
       "            0.,    0.,    0.,    0.,    0.,    3.])],\n",
       " array([   0.     ,   34.15528,   68.31056,  102.46584,  136.62112,\n",
       "         170.7764 ,  204.93168,  239.08696,  273.24224,  307.39752,\n",
       "         341.5528 ,  375.70808,  409.86336,  444.01864,  478.17392,\n",
       "         512.3292 ]),\n",
       " <a list of 2 Lists of Patches objects>)"
      ]
     },
     "execution_count": 43,
     "metadata": {},
     "output_type": "execute_result"
    },
    {
     "data": {
      "image/png": "[encoded data removed]",
      "text/plain": [
       "<matplotlib.figure.Figure at 0x1a14119d30>"
      ]
     },
     "metadata": {},
     "output_type": "display_data"
    }
   ],
   "source": [
    "fare_l = [i['Fare'].dropna() for i in split_data]\n",
    "plt.hist(fare_l, histtype='bar', bins=15)"
   ]
  },
  {
   "cell_type": "code",
   "execution_count": 44,
   "metadata": {
    "collapsed": true
   },
   "outputs": [],
   "source": [
    "#Embarkedに欠損値を持つサンプルを削除\n",
    "df = df.dropna(subset=['Embarked'])\n",
    "\n",
    "#不必要なPassengerId,Name,Age,Ticket,Cabin,Embarkedを説明変数から削除\n",
    "#多重共線性を防ぐためにClass_3,Embarked_Qを削除\n",
    "df = df.drop(['PassengerId','Pclass','Name','Sex','Embarked',\n",
    "              'Age','Ticket','Cabin','Class_3','Embarked_Q'], axis=1)"
   ]
  },
  {
   "cell_type": "code",
   "execution_count": 66,
   "metadata": {},
   "outputs": [
    {
     "data": {
      "text/plain": [
       "Index(['Survived', 'SibSp', 'Parch', 'Fare', 'Honorific', 'Age_mod', 'Female',\n",
       "       'Class_1', 'Class_2', 'Embarked_C', 'Embarked_S'],\n",
       "      dtype='object')"
      ]
     },
     "execution_count": 66,
     "metadata": {},
     "output_type": "execute_result"
    }
   ],
   "source": [
    "df.columns"
   ]
  },
  {
   "cell_type": "code",
   "execution_count": 46,
   "metadata": {
    "collapsed": true
   },
   "outputs": [],
   "source": [
    "#欠損値処理　終了　     ↑↑↑\n",
    "#モデル学習、実行　開始　↓↓↓"
   ]
  },
  {
   "cell_type": "code",
   "execution_count": 47,
   "metadata": {
    "collapsed": true
   },
   "outputs": [],
   "source": [
    "#ライブラリの読み込み\n",
    "from sklearn.model_selection import train_test_split\n",
    "from sklearn.linear_model import LogisticRegression\n",
    "from sklearn.svm import SVC"
   ]
  },
  {
   "cell_type": "code",
   "execution_count": 48,
   "metadata": {
    "collapsed": true
   },
   "outputs": [],
   "source": [
    "#説明変数と目的変数を指定\n",
    "#全て使ってみる\n",
    "X_0 = df.drop(['Survived'], axis=1).values\n",
    "y_0 = df.loc[:,['Survived']].values.reshape(-1)\n",
    "\n",
    "#データの分割\n",
    "X_0_train, X_0_test, y_0_train, y_0_test = train_test_split(X_0, y_0, test_size=0.3, \n",
    "                                                                random_state=0)"
   ]
  },
  {
   "cell_type": "code",
   "execution_count": 64,
   "metadata": {},
   "outputs": [
    {
     "data": {
      "text/plain": [
       "SVC(C=100, cache_size=200, class_weight=None, coef0=0.0,\n",
       "  decision_function_shape='ovr', degree=3, gamma=0.0001, kernel='rbf',\n",
       "  max_iter=-1, probability=False, random_state=None, shrinking=True,\n",
       "  tol=0.001, verbose=False)"
      ]
     },
     "execution_count": 64,
     "metadata": {},
     "output_type": "execute_result"
    }
   ],
   "source": [
    "#ロジスティック回帰の実行\n",
    "#カーネルSVCの実行\n",
    "\n",
    "lr_0 = LogisticRegression(C=1.0)\n",
    "lr_0.fit(X_0_train, y_0_train)\n",
    "svc_0 = SVC(kernel='rbf', gamma=0.0001, C=100)\n",
    "svc_0.fit(X_0_train, y_0_train)"
   ]
  },
  {
   "cell_type": "code",
   "execution_count": 65,
   "metadata": {},
   "outputs": [
    {
     "name": "stdout",
     "output_type": "stream",
     "text": [
      "0.819935691318\n",
      "0.775280898876\n",
      "0.810289389068\n",
      "0.74531835206\n"
     ]
    }
   ],
   "source": [
    "#決定係数を出力\n",
    "print(lr_0.score(X_0_train, y_0_train))\n",
    "print(lr_0.score(X_0_test, y_0_test))\n",
    "print(svc_0.score(X_0_train, y_0_train))\n",
    "print(svc_0.score(X_0_test, y_0_test))"
   ]
  },
  {
   "cell_type": "code",
   "execution_count": 51,
   "metadata": {
    "collapsed": true
   },
   "outputs": [],
   "source": [
    "#　運賃∝客室の等級\n",
    "#  敬称　＝　性別　＋　(年齢)"
   ]
  },
  {
   "cell_type": "code",
   "execution_count": 62,
   "metadata": {},
   "outputs": [
    {
     "data": {
      "text/plain": [
       "SVC(C=100, cache_size=200, class_weight=None, coef0=0.0,\n",
       "  decision_function_shape='ovr', degree=3, gamma=0.001, kernel='rbf',\n",
       "  max_iter=-1, probability=False, random_state=None, shrinking=True,\n",
       "  tol=0.001, verbose=False)"
      ]
     },
     "execution_count": 62,
     "metadata": {},
     "output_type": "execute_result"
    }
   ],
   "source": [
    "#説明変数を絞る\n",
    "#Female,Age_mod,Class_1,Class_2,Embarked_C,Embarked_Sを抽出\n",
    "X_1 = df.loc[:,['Female','Age_mod','Class_1','Class_2','Embarked_C', 'Embarked_S','SibSp']].values\n",
    "y_1 = df.loc[:,['Survived']].values.reshape(-1)\n",
    "\n",
    "#データの分割\n",
    "X_1_train, X_1_test, y_1_train, y_1_test = train_test_split(X_1, y_1, test_size=0.3, \n",
    "                                                                random_state=3)\n",
    "\n",
    "#ロジスティック回帰の実行\n",
    "#カーネルSVCの実行\n",
    "lr_1 = LogisticRegression(C=1.0)\n",
    "lr_1.fit(X_1_train, y_1_train)\n",
    "svc_1 = SVC(kernel='rbf', gamma=0.001, C=100)\n",
    "svc_1.fit(X_1_train, y_1_train)"
   ]
  },
  {
   "cell_type": "code",
   "execution_count": 63,
   "metadata": {},
   "outputs": [
    {
     "name": "stdout",
     "output_type": "stream",
     "text": [
      "0.834405144695\n",
      "0.756554307116\n",
      "0.826366559486\n",
      "0.797752808989\n"
     ]
    }
   ],
   "source": [
    "#決定係数を出力\n",
    "print(lr_1.score(X_1_train, y_1_train))\n",
    "print(lr_1.score(X_1_test, y_1_test))\n",
    "print(svc_1.score(X_1_train, y_1_train))\n",
    "print(svc_1.score(X_1_test, y_1_test))"
   ]
  },
  {
   "cell_type": "code",
   "execution_count": null,
   "metadata": {
    "collapsed": true
   },
   "outputs": [],
   "source": []
  }
 ],
 "metadata": {
  "kernelspec": {
   "display_name": "Python 3",
   "language": "python",
   "name": "python3"
  },
  "language_info": {
   "codemirror_mode": {
    "name": "ipython",
    "version": 3
   },
   "file_extension": ".py",
   "mimetype": "text/x-python",
   "name": "python",
   "nbconvert_exporter": "python",
   "pygments_lexer": "ipython3",
   "version": "3.6.2"
  }
 },
 "nbformat": 4,
 "nbformat_minor": 2
}
