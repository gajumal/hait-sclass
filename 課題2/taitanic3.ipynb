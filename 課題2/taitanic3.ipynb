{
 "cells": [
  {
   "cell_type": "code",
   "execution_count": 1,
   "metadata": {
    "collapsed": true
   },
   "outputs": [],
   "source": [
    "#ライブラリの読み込み\n",
    "\n",
    "import numpy as np\n",
    "import pandas as pd\n",
    "import matplotlib.pyplot as plt\n",
    "% matplotlib inline\n",
    "from numpy import nan\n",
    "import seaborn as sns\n",
    "\n",
    "#データの読み込み\n",
    "df = pd.read_csv('train_taitanic.csv')"
   ]
  },
  {
   "cell_type": "code",
   "execution_count": 2,
   "metadata": {
    "collapsed": true
   },
   "outputs": [],
   "source": [
    "#欠損値処理\n",
    "\n",
    "#敬称による分類、繰り返し文{'Miss.':0,'Mrs.':1,'Master':2,'Mr':3}\n",
    "#Msは1人なのでMrsに追加\n",
    "#3には数人Dr.などいるがMr.として考える\n",
    "\n",
    "list_n = []\n",
    "for name in df.loc[:,['Name']].values.reshape(-1):\n",
    "    if 'Miss.' in name:\n",
    "        list_n.append(0)\n",
    "    elif 'Mrs.' in name or 'Ms.' in name:\n",
    "        list_n.append(1)\n",
    "    elif 'Master.' in name:\n",
    "        list_n.append(2)\n",
    "    else:\n",
    "        list_n.append(3)"
   ]
  },
  {
   "cell_type": "code",
   "execution_count": 3,
   "metadata": {
    "collapsed": true
   },
   "outputs": [],
   "source": [
    "#dfにHonorificカラムを追加\n",
    "df['Honorific'] = np.array(list_n)"
   ]
  },
  {
   "cell_type": "code",
   "execution_count": 4,
   "metadata": {},
   "outputs": [
    {
     "name": "stdout",
     "output_type": "stream",
     "text": [
      "Honorific\n",
      "0    21.773973\n",
      "1    35.825688\n",
      "2     4.574167\n",
      "3    32.994090\n",
      "Name: Age, dtype: float64\n",
      "Honorific\n",
      "0    21.0\n",
      "1    35.0\n",
      "2     3.5\n",
      "3    30.0\n",
      "Name: Age, dtype: float64\n"
     ]
    }
   ],
   "source": [
    "#敬称ごとの年齢の平均値、中央値を出力\n",
    "\n",
    "age_mean = df.groupby('Honorific').Age.mean()\n",
    "age_median = df.groupby('Honorific').Age.median()\n",
    "print(age_mean)\n",
    "print(age_median)"
   ]
  },
  {
   "cell_type": "code",
   "execution_count": 5,
   "metadata": {
    "collapsed": true
   },
   "outputs": [],
   "source": [
    "#Ageの欠損値を敬称ごとの平均値で補完\n",
    "\n",
    "#Ageが欠損しているindexを取り出しのlistを作成\n",
    "age_nan = df.Age.isnull()\n",
    "list_nan = age_nan.values\n",
    "list_t = []\n",
    "for i in range(len(list_nan)):\n",
    "    if list_nan[i] == True:\n",
    "        list_t.append(i)\n",
    "        \n",
    "#list_tに対して敬称ごとの年齢の中央値が対応するlistの作成\n",
    "list_m = []\n",
    "for i in list_t:\n",
    "    list_m.append(age_mean[df.Honorific[i]])\n",
    "    \n",
    "#df_ageカラムを作成し、dfに追加\n",
    "df_age = df.loc[:,['Age']]\n",
    "for j,k in zip(list_t, list_m):    \n",
    "    df_age.Age[j] = k\n",
    "\n",
    "df['Age_mod'] = df_age"
   ]
  },
  {
   "cell_type": "code",
   "execution_count": 6,
   "metadata": {
    "collapsed": true
   },
   "outputs": [],
   "source": [
    "#Sexをダミー変数化\n",
    "df['Female'] = df['Sex'].map({'male':0,'female':1})\n",
    "\n",
    "#Pclassをダミー変数化\n",
    "#Embarkedをダミー変数化\n",
    "pclass = pd.get_dummies(df['Pclass'],prefix ='Class')\n",
    "embarked = pd.get_dummies(df['Embarked'], prefix='Embarked')\n",
    "\n",
    "#df,pclass,embarkedを結合\n",
    "df = pd.concat([df, pclass, embarked], axis=1)"
   ]
  },
  {
   "cell_type": "code",
   "execution_count": 7,
   "metadata": {
    "collapsed": true
   },
   "outputs": [],
   "source": [
    "#Embarkedに欠損値を持つサンプルを削除\n",
    "df = df.dropna(subset=['Embarked'])\n",
    "\n",
    "#不必要なPassengerId,Name,Age,Ticket,Cabin,Embarkedを説明変数から削除\n",
    "#多重共線性を防ぐためにClass_3,Embarked_Qを削除\n",
    "df = df.drop(['PassengerId','Pclass','Name','Sex','Embarked',\n",
    "              'Age','Ticket','Cabin','Class_3','Embarked_Q'], axis=1)"
   ]
  },
  {
   "cell_type": "code",
   "execution_count": 8,
   "metadata": {},
   "outputs": [
    {
     "data": {
      "text/plain": [
       "Index(['Survived', 'SibSp', 'Parch', 'Fare', 'Honorific', 'Age_mod', 'Female',\n",
       "       'Class_1', 'Class_2', 'Embarked_C', 'Embarked_S'],\n",
       "      dtype='object')"
      ]
     },
     "execution_count": 8,
     "metadata": {},
     "output_type": "execute_result"
    }
   ],
   "source": [
    "#columnsを出力\n",
    "df.columns"
   ]
  },
  {
   "cell_type": "code",
   "execution_count": 9,
   "metadata": {
    "collapsed": true
   },
   "outputs": [],
   "source": [
    "#欠損値処理　終了　     ↑↑↑\n",
    "#モデル学習、実行　開始　↓↓↓"
   ]
  },
  {
   "cell_type": "code",
   "execution_count": 103,
   "metadata": {
    "collapsed": true
   },
   "outputs": [],
   "source": [
    "#説明変数と目的変数を指定\n",
    "#全て使ってみる\n",
    "X_0 = df.drop(['Survived'], axis=1).values\n",
    "y_0 = df.loc[:,['Survived']].values.reshape(-1)\n",
    "\n",
    "#データの分割\n",
    "from sklearn.model_selection import train_test_split\n",
    "X_0_train, X_0_test, y_0_train, y_0_test = train_test_split(X_0, y_0, test_size=0.3, \n",
    "                                                                random_state=0)"
   ]
  },
  {
   "cell_type": "code",
   "execution_count": 104,
   "metadata": {},
   "outputs": [
    {
     "data": {
      "text/plain": [
       "DecisionTreeClassifier(class_weight=None, criterion='gini', max_depth=3,\n",
       "            max_features=None, max_leaf_nodes=None,\n",
       "            min_impurity_decrease=0.0, min_impurity_split=None,\n",
       "            min_samples_leaf=1, min_samples_split=2,\n",
       "            min_weight_fraction_leaf=0.0, presort=False, random_state=0,\n",
       "            splitter='best')"
      ]
     },
     "execution_count": 104,
     "metadata": {},
     "output_type": "execute_result"
    }
   ],
   "source": [
    "#決定木による学習\n",
    "from sklearn.tree import DecisionTreeClassifier\n",
    "tree_0 = DecisionTreeClassifier(random_state=0,max_depth=3)\n",
    "tree_0.fit(X_0_train, y_0_train)"
   ]
  },
  {
   "cell_type": "code",
   "execution_count": 105,
   "metadata": {},
   "outputs": [
    {
     "name": "stdout",
     "output_type": "stream",
     "text": [
      "0.83922829582\n",
      "0.782771535581\n"
     ]
    }
   ],
   "source": [
    "print(tree_0.score(X_0_train, y_0_train))\n",
    "print(tree_0.score(X_0_test, y_0_test))"
   ]
  },
  {
   "cell_type": "code",
   "execution_count": 106,
   "metadata": {
    "scrolled": true
   },
   "outputs": [
    {
     "data": {
      "text/plain": [
       "RandomForestClassifier(bootstrap=True, class_weight=None, criterion='gini',\n",
       "            max_depth=None, max_features='auto', max_leaf_nodes=None,\n",
       "            min_impurity_decrease=0.0, min_impurity_split=None,\n",
       "            min_samples_leaf=1, min_samples_split=2,\n",
       "            min_weight_fraction_leaf=0.0, n_estimators=5, n_jobs=1,\n",
       "            oob_score=False, random_state=0, verbose=0, warm_start=False)"
      ]
     },
     "execution_count": 106,
     "metadata": {},
     "output_type": "execute_result"
    }
   ],
   "source": [
    "# ランダムフォレストによる学習\n",
    "from sklearn.ensemble import RandomForestClassifier\n",
    "rfc_0 = RandomForestClassifier(random_state=0, n_estimators=5)\n",
    "rfc_0.fit(X_0_train, y_0_train)"
   ]
  },
  {
   "cell_type": "code",
   "execution_count": 107,
   "metadata": {},
   "outputs": [
    {
     "name": "stdout",
     "output_type": "stream",
     "text": [
      "0.96463022508\n",
      "0.797752808989\n"
     ]
    }
   ],
   "source": [
    "#決定係数を出力\n",
    "print(rfc_0.score(X_0_train, y_0_train))\n",
    "print(rfc_0.score(X_0_test, y_0_test))"
   ]
  },
  {
   "cell_type": "code",
   "execution_count": 108,
   "metadata": {},
   "outputs": [
    {
     "data": {
      "image/png": "[encoded data removed]",
      "text/plain": [
       "<matplotlib.figure.Figure at 0x1a27ebd2e8>"
      ]
     },
     "metadata": {},
     "output_type": "display_data"
    }
   ],
   "source": [
    "# 特徴量の重要度をグラフに出力\n",
    "n_features = len(df.columns)-1\n",
    "plt.figure(figsize=(12, 8))\n",
    "plt.barh(range(n_features), rfc_0.feature_importances_ , align='center')\n",
    "plt.yticks(np.arange(n_features),['SibSp', 'Parch', 'Fare', 'Honorific', 'Age_mod', \n",
    "                                  'Female','Class_1', 'Class_2', 'Embarked_C', 'Embarked_S'] )\n",
    "plt.show()"
   ]
  },
  {
   "cell_type": "code",
   "execution_count": 109,
   "metadata": {},
   "outputs": [
    {
     "data": {
      "text/plain": [
       "GradientBoostingClassifier(criterion='friedman_mse', init=None,\n",
       "              learning_rate=0.1, loss='deviance', max_depth=3,\n",
       "              max_features=None, max_leaf_nodes=None,\n",
       "              min_impurity_decrease=0.0, min_impurity_split=None,\n",
       "              min_samples_leaf=1, min_samples_split=2,\n",
       "              min_weight_fraction_leaf=0.0, n_estimators=5, presort='auto',\n",
       "              random_state=0, subsample=1.0, verbose=0, warm_start=False)"
      ]
     },
     "execution_count": 109,
     "metadata": {},
     "output_type": "execute_result"
    }
   ],
   "source": [
    "# 勾配ブースティング木で学習させる\n",
    "from sklearn.ensemble import GradientBoostingClassifier\n",
    "gbct_0 = GradientBoostingClassifier(n_estimators=5,random_state=0, max_depth=3, learning_rate=0.1)\n",
    "gbct_0.fit(X_0_train, y_0_train)"
   ]
  },
  {
   "cell_type": "code",
   "execution_count": 110,
   "metadata": {},
   "outputs": [
    {
     "name": "stdout",
     "output_type": "stream",
     "text": [
      "0.83922829582\n",
      "0.801498127341\n"
     ]
    }
   ],
   "source": [
    "#決定係数を出力\n",
    "print(gbct_0.score(X_0_train, y_0_train))\n",
    "print(gbct_0.score(X_0_test, y_0_test))"
   ]
  },
  {
   "cell_type": "code",
   "execution_count": 111,
   "metadata": {},
   "outputs": [
    {
     "data": {
      "image/png": "[encoded data removed]",
      "text/plain": [
       "<matplotlib.figure.Figure at 0x1a180e5668>"
      ]
     },
     "metadata": {},
     "output_type": "display_data"
    }
   ],
   "source": [
    "# 特徴量の重要度をグラフに出力\n",
    "n_features = len(df.columns)-1\n",
    "plt.figure(figsize=(12, 8))\n",
    "plt.barh(range(n_features), gbct_0.feature_importances_ , align='center')\n",
    "plt.yticks(np.arange(n_features),['SibSp', 'Parch', 'Fare', 'Honorific', 'Age_mod', \n",
    "                                  'Female','Class_1', 'Class_2', 'Embarked_C', 'Embarked_S'] )\n",
    "plt.show()"
   ]
  },
  {
   "cell_type": "code",
   "execution_count": 112,
   "metadata": {
    "collapsed": true
   },
   "outputs": [],
   "source": [
    "#↑↑↑['Class_1','Female','Age_mod','Honorific','Fare','Sibsp']の重要度が高い\n",
    "\n",
    "#↓↓↓これらの特徴量を用いてもう一度モデル学習、実行"
   ]
  },
  {
   "cell_type": "code",
   "execution_count": 117,
   "metadata": {},
   "outputs": [],
   "source": [
    "#説明変数と目的変数を指定\n",
    "\n",
    "X_1 = df.loc[:,['Class_1','Female','Age_mod',\n",
    "                'Honorific','Fare','SibSp']].values\n",
    "y_1 = df.loc[:,['Survived']].values.reshape(-1)\n",
    "             \n",
    "#データの分割\n",
    "from sklearn.model_selection import train_test_split\n",
    "X_1_train, X_1_test, y_1_train, y_1_test = train_test_split(X_1, y_1, test_size=0.3, \n",
    "                                                                random_state=1)"
   ]
  },
  {
   "cell_type": "code",
   "execution_count": 186,
   "metadata": {},
   "outputs": [
    {
     "data": {
      "text/plain": [
       "SVC(C=100, cache_size=200, class_weight=None, coef0=0.0,\n",
       "  decision_function_shape='ovr', degree=3, gamma=0.001, kernel='rbf',\n",
       "  max_iter=-1, probability=False, random_state=None, shrinking=True,\n",
       "  tol=0.001, verbose=False)"
      ]
     },
     "execution_count": 186,
     "metadata": {},
     "output_type": "execute_result"
    }
   ],
   "source": [
    "#ロジスティック回帰の実行\n",
    "#カーネルSVCの実行\n",
    "from sklearn.linear_model import LogisticRegression\n",
    "from sklearn.svm import SVC\n",
    "\n",
    "lr_1 = LogisticRegression(C=1.0)\n",
    "lr_1.fit(X_1_train, y_1_train)\n",
    "svc_1 = SVC(kernel='rbf', gamma=0.05, C=100)\n",
    "svc_1.fit(X_1_train, y_1_train)"
   ]
  },
  {
   "cell_type": "code",
   "execution_count": 187,
   "metadata": {},
   "outputs": [
    {
     "name": "stdout",
     "output_type": "stream",
     "text": [
      "0.773311897106\n",
      "0.812734082397\n",
      "0.815112540193\n",
      "0.820224719101\n"
     ]
    }
   ],
   "source": [
    "#決定係数を出力\n",
    "print(lr_1.score(X_1_train, y_1_train))\n",
    "print(lr_1.score(X_1_test, y_1_test))\n",
    "print(svc_1.score(X_1_train, y_1_train))\n",
    "print(svc_1.score(X_1_test, y_1_test))"
   ]
  },
  {
   "cell_type": "code",
   "execution_count": 127,
   "metadata": {},
   "outputs": [
    {
     "data": {
      "text/plain": [
       "RandomForestClassifier(bootstrap=True, class_weight=None, criterion='gini',\n",
       "            max_depth=None, max_features='auto', max_leaf_nodes=None,\n",
       "            min_impurity_decrease=0.0, min_impurity_split=None,\n",
       "            min_samples_leaf=1, min_samples_split=2,\n",
       "            min_weight_fraction_leaf=0.0, n_estimators=10, n_jobs=1,\n",
       "            oob_score=False, random_state=1, verbose=0, warm_start=False)"
      ]
     },
     "execution_count": 127,
     "metadata": {},
     "output_type": "execute_result"
    }
   ],
   "source": [
    "# ランダムフォレストによる学習\n",
    "from sklearn.ensemble import RandomForestClassifier\n",
    "rfc_1 = RandomForestClassifier(random_state=1, n_estimators=10)\n",
    "rfc_1.fit(X_1_train, y_1_train)"
   ]
  },
  {
   "cell_type": "code",
   "execution_count": 128,
   "metadata": {},
   "outputs": [
    {
     "name": "stdout",
     "output_type": "stream",
     "text": [
      "0.969453376206\n",
      "0.820224719101\n"
     ]
    }
   ],
   "source": [
    "#決定係数を出力\n",
    "print(rfc_1.score(X_1_train, y_1_train))\n",
    "print(rfc_1.score(X_1_test, y_1_test))"
   ]
  },
  {
   "cell_type": "code",
   "execution_count": 173,
   "metadata": {},
   "outputs": [
    {
     "data": {
      "text/plain": [
       "GradientBoostingClassifier(criterion='friedman_mse', init=None,\n",
       "              learning_rate=0.1, loss='deviance', max_depth=4,\n",
       "              max_features=None, max_leaf_nodes=None,\n",
       "              min_impurity_decrease=0.0, min_impurity_split=None,\n",
       "              min_samples_leaf=1, min_samples_split=2,\n",
       "              min_weight_fraction_leaf=0.0, n_estimators=10,\n",
       "              presort='auto', random_state=1, subsample=1.0, verbose=0,\n",
       "              warm_start=False)"
      ]
     },
     "execution_count": 173,
     "metadata": {},
     "output_type": "execute_result"
    }
   ],
   "source": [
    "# 勾配ブースティング木で学習させる\n",
    "from sklearn.ensemble import GradientBoostingClassifier\n",
    "gbct_1 = GradientBoostingClassifier(n_estimators=10,random_state=1, max_depth=4, learning_rate=0.1)\n",
    "gbct_1.fit(X_1_train, y_1_train)"
   ]
  },
  {
   "cell_type": "code",
   "execution_count": 174,
   "metadata": {},
   "outputs": [
    {
     "name": "stdout",
     "output_type": "stream",
     "text": [
      "0.842443729904\n",
      "0.85393258427\n"
     ]
    }
   ],
   "source": [
    "#決定係数を出力\n",
    "print(gbct_1.score(X_1_train, y_1_train))\n",
    "print(gbct_1.score(X_1_test, y_1_test))"
   ]
  },
  {
   "cell_type": "code",
   "execution_count": null,
   "metadata": {
    "collapsed": true
   },
   "outputs": [],
   "source": []
  }
 ],
 "metadata": {
  "kernelspec": {
   "display_name": "Python 3",
   "language": "python",
   "name": "python3"
  },
  "language_info": {
   "codemirror_mode": {
    "name": "ipython",
    "version": 3
   },
   "file_extension": ".py",
   "mimetype": "text/x-python",
   "name": "python",
   "nbconvert_exporter": "python",
   "pygments_lexer": "ipython3",
   "version": "3.6.2"
  }
 },
 "nbformat": 4,
 "nbformat_minor": 2
}
