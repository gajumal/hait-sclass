{
 "cells": [
  {
   "cell_type": "code",
   "execution_count": 40,
   "metadata": {
    "collapsed": true
   },
   "outputs": [],
   "source": [
    "#ライブラリの読み込み\n",
    "import numpy as np\n",
    "import pandas as pd\n",
    "import matplotlib.pyplot as plt\n",
    "% matplotlib inline\n",
    "from numpy import nan\n",
    "\n",
    "#データの読み込み\n",
    "df = pd.read_csv('train_taitanic.csv')"
   ]
  },
  {
   "cell_type": "code",
   "execution_count": 41,
   "metadata": {
    "collapsed": true
   },
   "outputs": [],
   "source": [
    "#欠損値処理\n",
    "\n",
    "#敬称による分類、繰り返し文{'Miss.':0,'Mrs.':1,'Master':2,'Mr':3}\n",
    "#Msは1人なのでMrsに追加\n",
    "#3には数人Dr.などいるがMr.として考える\n",
    "\n",
    "list_n = []\n",
    "for name in df.loc[:,['Name']].values.reshape(-1):\n",
    "    if 'Miss.' in name:\n",
    "        list_n.append(0)\n",
    "    elif 'Mrs.' in name or 'Ms.' in name:\n",
    "        list_n.append(1)\n",
    "    elif 'Master.' in name:\n",
    "        list_n.append(2)\n",
    "    else:\n",
    "        list_n.append(3)"
   ]
  },
  {
   "cell_type": "code",
   "execution_count": 42,
   "metadata": {
    "collapsed": true
   },
   "outputs": [],
   "source": [
    "#dfにHonorificカラムを追加\n",
    "df['Honorific'] = np.array(list_n)"
   ]
  },
  {
   "cell_type": "code",
   "execution_count": 43,
   "metadata": {},
   "outputs": [],
   "source": [
    "#Ageの欠損値を敬称ごとの平均値で補完\n",
    "\n",
    "#Ageが欠損しているindexを取り出しのlistを作成\n",
    "age_nan = df.Age.isnull()\n",
    "list_nan = age_nan.values\n",
    "list_t = []\n",
    "for i in range(len(list_nan)):\n",
    "    if list_nan[i] == True:\n",
    "        list_t.append(i)\n",
    "        \n",
    "#list_tに対して敬称ごとの年齢の中央値が対応するlistの作成\n",
    "list_m = []\n",
    "age_mean = df.groupby('Honorific').Age.mean()\n",
    "for i in list_t:\n",
    "    list_m.append(age_mean[df.Honorific[i]])\n",
    "    \n",
    "#df_ageカラムを作成し、dfに追加\n",
    "df_age = df.loc[:,['Age']]\n",
    "for j,k in zip(list_t, list_m):    \n",
    "    df_age.Age[j] = k\n",
    "\n",
    "df['Age_mod'] = df_age"
   ]
  },
  {
   "cell_type": "code",
   "execution_count": 44,
   "metadata": {
    "collapsed": true
   },
   "outputs": [],
   "source": [
    "#Sexをダミー変数化\n",
    "df['Female'] = df['Sex'].map({'male':0,'female':1})\n",
    "\n",
    "#Pclassをダミー変数化\n",
    "#Embarkedをダミー変数化\n",
    "pclass = pd.get_dummies(df['Pclass'],prefix ='Class')\n",
    "embarked = pd.get_dummies(df['Embarked'], prefix='Embarked')\n",
    "\n",
    "#df,pclass,embarkedを結合\n",
    "df = pd.concat([df, pclass, embarked], axis=1)"
   ]
  },
  {
   "cell_type": "code",
   "execution_count": 45,
   "metadata": {
    "collapsed": true
   },
   "outputs": [],
   "source": [
    "#説明変数と目的変数を指定\n",
    "X_1 = df.loc[:,['Class_1','Female','Age_mod',\n",
    "                'Honorific','Fare','SibSp']].values\n",
    "y_1 = df.loc[:,['Survived']].values.reshape(-1)"
   ]
  },
  {
   "cell_type": "code",
   "execution_count": 46,
   "metadata": {},
   "outputs": [
    {
     "data": {
      "text/plain": [
       "GradientBoostingClassifier(criterion='friedman_mse', init=None,\n",
       "              learning_rate=0.1, loss='deviance', max_depth=4,\n",
       "              max_features=None, max_leaf_nodes=None,\n",
       "              min_impurity_decrease=0.0, min_impurity_split=None,\n",
       "              min_samples_leaf=1, min_samples_split=2,\n",
       "              min_weight_fraction_leaf=0.0, n_estimators=10,\n",
       "              presort='auto', random_state=1, subsample=1.0, verbose=0,\n",
       "              warm_start=False)"
      ]
     },
     "execution_count": 46,
     "metadata": {},
     "output_type": "execute_result"
    }
   ],
   "source": [
    "# 勾配ブースティング木で学習させる\n",
    "from sklearn.ensemble import GradientBoostingClassifier\n",
    "gbct_1 = GradientBoostingClassifier(n_estimators=10,random_state=1, max_depth=4, learning_rate=0.1)\n",
    "gbct_1.fit(X_1, y_1)"
   ]
  },
  {
   "cell_type": "code",
   "execution_count": 47,
   "metadata": {
    "collapsed": true
   },
   "outputs": [],
   "source": [
    "df_test = pd.read_csv('test_taitanic.csv')"
   ]
  },
  {
   "cell_type": "code",
   "execution_count": 48,
   "metadata": {
    "collapsed": true
   },
   "outputs": [],
   "source": [
    "#欠損値処理\n",
    "\n",
    "#敬称による分類、繰り返し文{'Miss.':0,'Mrs.':1,'Master':2,'Mr':3}\n",
    "#Msは1人なのでMrsに追加\n",
    "#3には数人Dr.などいるがMr.として考える\n",
    "\n",
    "list_n = []\n",
    "for name in df_test.loc[:,['Name']].values.reshape(-1):\n",
    "    if 'Miss.' in name:\n",
    "        list_n.append(0)\n",
    "    elif 'Mrs.' in name or 'Ms.' in name:\n",
    "        list_n.append(1)\n",
    "    elif 'Master.' in name:\n",
    "        list_n.append(2)\n",
    "    else:\n",
    "        list_n.append(3)"
   ]
  },
  {
   "cell_type": "code",
   "execution_count": 49,
   "metadata": {
    "collapsed": true
   },
   "outputs": [],
   "source": [
    "#df_testにHonorificカラムを追加\n",
    "df_test['Honorific'] = np.array(list_n)"
   ]
  },
  {
   "cell_type": "code",
   "execution_count": 50,
   "metadata": {
    "collapsed": true
   },
   "outputs": [],
   "source": [
    "#Ageの欠損値を敬称ごとの平均値で補完\n",
    "\n",
    "#Ageが欠損しているindexを取り出しのlistを作成\n",
    "age_nan = df_test.Age.isnull()\n",
    "list_nan = age_nan.values\n",
    "list_t = []\n",
    "for i in range(len(list_nan)):\n",
    "    if list_nan[i] == True:\n",
    "        list_t.append(i)\n",
    "        \n",
    "#list_tに対して敬称ごとの年齢の中央値が対応するlistの作成\n",
    "list_m = []\n",
    "age_mean = df_test.groupby('Honorific').Age.mean()\n",
    "for i in list_t:\n",
    "    list_m.append(age_mean[df_test.Honorific[i]])\n",
    "    \n",
    "#df_ageカラムを作成し、dfに追加\n",
    "df_age = df_test.loc[:,['Age']]\n",
    "for j,k in zip(list_t, list_m):    \n",
    "    df_age.Age[j] = k\n",
    "\n",
    "df_test['Age_mod'] = df_age"
   ]
  },
  {
   "cell_type": "code",
   "execution_count": 51,
   "metadata": {
    "collapsed": true
   },
   "outputs": [],
   "source": [
    "#Sexをダミー変数化\n",
    "df_test['Female'] = df_test['Sex'].map({'male':0,'female':1})\n",
    "\n",
    "#Pclassをダミー変数化\n",
    "#Embarkedをダミー変数化\n",
    "pclass = pd.get_dummies(df_test['Pclass'],prefix ='Class')\n",
    "embarked = pd.get_dummies(df_test['Embarked'], prefix='Embarked')\n",
    "\n",
    "#df,pclass,embarkedを結合\n",
    "df_test = pd.concat([df_test, pclass, embarked], axis=1)"
   ]
  },
  {
   "cell_type": "code",
   "execution_count": 57,
   "metadata": {},
   "outputs": [
    {
     "name": "stderr",
     "output_type": "stream",
     "text": [
      "/Users/shun/.pyenv/versions/anaconda3-5.0.0/lib/python3.6/site-packages/ipykernel_launcher.py:4: SettingWithCopyWarning: \n",
      "A value is trying to be set on a copy of a slice from a DataFrame\n",
      "\n",
      "See the caveats in the documentation: http://pandas.pydata.org/pandas-docs/stable/indexing.html#indexing-view-versus-copy\n",
      "  after removing the cwd from sys.path.\n"
     ]
    }
   ],
   "source": [
    "#説明変数を指定\n",
    "X_fin = df_test.loc[:,['Class_1','Female','Age_mod',\n",
    "                'Honorific','Fare','SibSp']]\n",
    "X_fin.Fare[152] = 10"
   ]
  },
  {
   "cell_type": "code",
   "execution_count": 59,
   "metadata": {},
   "outputs": [],
   "source": [
    "result = gbct_1.predict(X_fin)\n",
    "result_ = pd.DataFrame(result, columns=['Survived'])\n",
    "index_list = list(range(892,1310,1))\n",
    "result_.index = index_list\n",
    "result_.to_csv('result.csv')"
   ]
  },
  {
   "cell_type": "code",
   "execution_count": null,
   "metadata": {
    "collapsed": true
   },
   "outputs": [],
   "source": []
  }
 ],
 "metadata": {
  "kernelspec": {
   "display_name": "Python 3",
   "language": "python",
   "name": "python3"
  },
  "language_info": {
   "codemirror_mode": {
    "name": "ipython",
    "version": 3
   },
   "file_extension": ".py",
   "mimetype": "text/x-python",
   "name": "python",
   "nbconvert_exporter": "python",
   "pygments_lexer": "ipython3",
   "version": "3.6.2"
  }
 },
 "nbformat": 4,
 "nbformat_minor": 2
}
